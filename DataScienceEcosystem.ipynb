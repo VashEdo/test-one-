{
 "cells": [
  {
   "cell_type": "markdown",
   "id": "d22e8479-e8c2-4775-9689-84ef92295681",
   "metadata": {},
   "source": [
    "## Author \n",
    "Eduard Vashkovets"
   ]
  },
  {
   "cell_type": "code",
   "execution_count": null,
   "id": "735a5105-9c99-4565-9abd-497c4c8517d2",
   "metadata": {},
   "outputs": [],
   "source": []
  }
 ],
 "metadata": {
  "kernelspec": {
   "display_name": "Python [conda env:base] *",
   "language": "python",
   "name": "conda-base-py"
  },
  "language_info": {
   "codemirror_mode": {
    "name": "ipython",
    "version": 3
   },
   "file_extension": ".py",
   "mimetype": "text/x-python",
   "name": "python",
   "nbconvert_exporter": "python",
   "pygments_lexer": "ipython3",
   "version": "3.13.5"
  }
 },
 "nbformat": 4,
 "nbformat_minor": 5
}
